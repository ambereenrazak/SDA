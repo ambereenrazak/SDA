{
 "cells": [
  {
   "cell_type": "code",
   "execution_count": 2,
   "metadata": {
    "collapsed": true
   },
   "outputs": [],
   "source": [
    "import math\n",
    "import numpy as np"
   ]
  },
  {
   "cell_type": "code",
   "execution_count": 1,
   "metadata": {
    "collapsed": true
   },
   "outputs": [],
   "source": [
    "import statistics"
   ]
  },
  {
   "cell_type": "code",
   "execution_count": null,
   "metadata": {
    "collapsed": true
   },
   "outputs": [],
   "source": []
  },
  {
   "cell_type": "markdown",
   "metadata": {},
   "source": [
    "## Average and Standard Deviation"
   ]
  },
  {
   "cell_type": "code",
   "execution_count": 4,
   "metadata": {},
   "outputs": [
    {
     "name": "stdout",
     "output_type": "stream",
     "text": [
      "x average =  -0.049999999999999996\n",
      "x standard deviation =  0.28809720581775866\n"
     ]
    }
   ],
   "source": [
    "data1 = [-0.3,0.2,-0.1,0.4,-0.2,-0.3]             #array of data given\n",
    "x_mean = statistics.mean(data1)                   #using inbuilt function to calculate mean from statistics\n",
    "print('x average = ', x_mean)                     #print value calculated for mean\n",
    "\n",
    "x_stdev = statistics.stdev(data1)                 #using inbuilt function to calculate standard deviation from statistics\n",
    "print('x standard deviation = ', x_stdev)         #print value calculated for mean"
   ]
  },
  {
   "cell_type": "code",
   "execution_count": 5,
   "metadata": {},
   "outputs": [
    {
     "name": "stdout",
     "output_type": "stream",
     "text": [
      "y average =  0.48333333333333334\n",
      "y standard deviation =  0.2562550812504342\n"
     ]
    }
   ],
   "source": [
    "data2 = [0.7,0.6,0.6,0.6,0.0,0.4]\n",
    "y_mean = statistics.mean(data2)\n",
    "print('y average = ', y_mean)\n",
    "\n",
    "y_stdev = statistics.stdev(data2)\n",
    "print('y standard deviation = ', y_stdev)"
   ]
  },
  {
   "cell_type": "code",
   "execution_count": 6,
   "metadata": {},
   "outputs": [
    {
     "name": "stdout",
     "output_type": "stream",
     "text": [
      "z average =  -0.03333333333333335\n",
      "z standard deviation =  0.5354126134736337\n"
     ]
    }
   ],
   "source": [
    "data3 = [-0.8,-0.5,0.6,0.3,0.3,-0.1]\n",
    "z_mean = statistics.mean(data3)\n",
    "print('z average = ', z_mean)\n",
    "\n",
    "z_stdev = statistics.stdev(data3)\n",
    "print('z standard deviation = ', z_stdev) #prints standard deviation for "
   ]
  },
  {
   "cell_type": "markdown",
   "metadata": {},
   "source": [
    "## Covariance Matrix"
   ]
  },
  {
   "cell_type": "code",
   "execution_count": 7,
   "metadata": {},
   "outputs": [
    {
     "data": {
      "text/plain": [
       "array([[ 0.083     ,  0.023     ],\n",
       "       [ 0.023     ,  0.06566667]])"
      ]
     },
     "execution_count": 7,
     "metadata": {},
     "output_type": "execute_result"
    }
   ],
   "source": [
    "np.cov(data1, data2)                          #using inbuilt function to calculate covariance matrix between x and y"
   ]
  },
  {
   "cell_type": "code",
   "execution_count": 8,
   "metadata": {},
   "outputs": [
    {
     "data": {
      "text/plain": [
       "array([[ 0.083     ,  0.032     ],\n",
       "       [ 0.032     ,  0.28666667]])"
      ]
     },
     "execution_count": 8,
     "metadata": {},
     "output_type": "execute_result"
    }
   ],
   "source": [
    "np.cov(data1, data3)"
   ]
  },
  {
   "cell_type": "code",
   "execution_count": 9,
   "metadata": {},
   "outputs": [
    {
     "data": {
      "text/plain": [
       "array([[ 0.06566667, -0.05266667],\n",
       "       [-0.05266667,  0.28666667]])"
      ]
     },
     "execution_count": 9,
     "metadata": {},
     "output_type": "execute_result"
    }
   ],
   "source": [
    "np.cov(data2, data3)"
   ]
  },
  {
   "cell_type": "markdown",
   "metadata": {},
   "source": [
    "## Correlation Matrix"
   ]
  },
  {
   "cell_type": "code",
   "execution_count": 10,
   "metadata": {},
   "outputs": [
    {
     "name": "stdout",
     "output_type": "stream",
     "text": [
      "0.02045791055845319\n"
     ]
    }
   ],
   "source": [
    "x_var = statistics.variance(data1)\n",
    "y_var = statistics.variance(data2)\n",
    "z_var = statistics.variance(data3)\n",
    "\n",
    "print((0.023)/(x_stdev)*(y_stdev))                        #print factor covariance matrix is scaled by"
   ]
  },
  {
   "cell_type": "code",
   "execution_count": 11,
   "metadata": {
    "collapsed": true
   },
   "outputs": [],
   "source": [
    "# do above step individually for each value in correlation matrix except diagonal as theyre all 1"
   ]
  },
  {
   "cell_type": "markdown",
   "metadata": {},
   "source": [
    "## Spearman Rank Correlation Coefficient"
   ]
  },
  {
   "cell_type": "code",
   "execution_count": 12,
   "metadata": {},
   "outputs": [
    {
     "data": {
      "text/plain": [
       "SpearmanrResult(correlation=-0.43122877254358821, pvalue=0.39325211605109922)"
      ]
     },
     "execution_count": 12,
     "metadata": {},
     "output_type": "execute_result"
    }
   ],
   "source": [
    "from scipy.stats import spearmanr\n",
    "spearmanr(data2,data3)"
   ]
  },
  {
   "cell_type": "markdown",
   "metadata": {},
   "source": [
    "## Rotation Angle"
   ]
  },
  {
   "cell_type": "code",
   "execution_count": 13,
   "metadata": {},
   "outputs": [
    {
     "name": "stdout",
     "output_type": "stream",
     "text": [
      "theta =  0.0636538709354\n"
     ]
    }
   ],
   "source": [
    "#for specific error matrix given in this question\n",
    "sigma_xx = 1.0\n",
    "sigma_yy = 0.8\n",
    "sigma_xy = 0.1\n",
    "\n",
    "theta = 0.5 * np.arctan((2 * sigma_xy) / ((sigma_xx)**2)*((sigma_yy)**2))\n",
    "print('theta = ', theta)"
   ]
  },
  {
   "cell_type": "code",
   "execution_count": 14,
   "metadata": {},
   "outputs": [
    {
     "data": {
      "text/plain": [
       "-2.4"
      ]
     },
     "execution_count": 14,
     "metadata": {},
     "output_type": "execute_result"
    }
   ],
   "source": [
    "(0.76-1)/0.1"
   ]
  },
  {
   "cell_type": "code",
   "execution_count": null,
   "metadata": {
    "collapsed": true
   },
   "outputs": [],
   "source": []
  },
  {
   "cell_type": "code",
   "execution_count": null,
   "metadata": {
    "collapsed": true
   },
   "outputs": [],
   "source": []
  },
  {
   "cell_type": "code",
   "execution_count": null,
   "metadata": {
    "collapsed": true
   },
   "outputs": [],
   "source": []
  }
 ],
 "metadata": {
  "kernelspec": {
   "display_name": "Python 3",
   "language": "python",
   "name": "python3"
  },
  "language_info": {
   "codemirror_mode": {
    "name": "ipython",
    "version": 3
   },
   "file_extension": ".py",
   "mimetype": "text/x-python",
   "name": "python",
   "nbconvert_exporter": "python",
   "pygments_lexer": "ipython3",
   "version": "3.6.3"
  }
 },
 "nbformat": 4,
 "nbformat_minor": 2
}
