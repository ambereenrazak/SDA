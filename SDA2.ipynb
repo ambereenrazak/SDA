{
 "cells": [
  {
   "cell_type": "code",
   "execution_count": 8,
   "metadata": {
    "collapsed": true
   },
   "outputs": [],
   "source": [
    "import warnings\n",
    "import numpy as np\n",
    "import matplotlib.pyplot as plt"
   ]
  },
  {
   "cell_type": "code",
   "execution_count": 16,
   "metadata": {},
   "outputs": [],
   "source": [
    "x_signal = [-1.0, -0.9, -0.7, -0.5, -0.2, 0.1, 0.2, 0.7]\n",
    "x_background = [-5.0, -4.4, -3.3, -2.2, -1.5, -1.3, -0.8, -0.5, -0.1, 0.0, 0.6, 0.8, 1.2, 3.4]\n",
    "\n",
    "x_values = np.arange(-4,2,0.1)\n",
    "significance_values = []\n",
    "\n",
    "for i in x_values:\n",
    "    significance = len([x for x in x_signal if x < i])/np.sqrt(len([x for x in x_signal if x < i]) \n",
    "                                                               + len([b for b in x_background if b >i]))\n",
    "    significance_values.append(significance)\n",
    "\n",
    "plt.figure(figsize = (16,9))\n",
    "plt.ylabel('Significance', size = 18)\n",
    "plt.xlabel('Cut Values', size = 18)\n",
    "plt.plot(x_values, significance_values,label = 'Cut value with highest significance = {}'.format(\n",
    "    round(x_values[significance_values.index(max(significance_values))],1)))\n",
    "\n",
    "plt.legend(prop = {'size':16})\n",
    "plt.show()\n",
    "warnings.filterwarnings('ignore')"
   ]
  },
  {
   "cell_type": "code",
   "execution_count": null,
   "metadata": {
    "collapsed": true
   },
   "outputs": [],
   "source": []
  }
 ],
 "metadata": {
  "kernelspec": {
   "display_name": "Python 3",
   "language": "python",
   "name": "python3"
  },
  "language_info": {
   "codemirror_mode": {
    "name": "ipython",
    "version": 3
   },
   "file_extension": ".py",
   "mimetype": "text/x-python",
   "name": "python",
   "nbconvert_exporter": "python",
   "pygments_lexer": "ipython3",
   "version": "3.6.3"
  }
 },
 "nbformat": 4,
 "nbformat_minor": 2
}
